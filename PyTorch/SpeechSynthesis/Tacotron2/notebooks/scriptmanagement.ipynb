{
 "cells": [
  {
   "cell_type": "code",
   "execution_count": 82,
   "id": "0d0b29a9",
   "metadata": {},
   "outputs": [],
   "source": [
    "# Load Packages\n",
    "\n",
    "import os\n",
    "import shutil\n",
    "import re"
   ]
  },
  {
   "cell_type": "code",
   "execution_count": null,
   "id": "3a3c9f63",
   "metadata": {},
   "outputs": [],
   "source": [
    "# Define Functions"
   ]
  },
  {
   "cell_type": "code",
   "execution_count": 83,
   "id": "9002b64b",
   "metadata": {},
   "outputs": [],
   "source": [
    "def create_voice_folder(path, name):\n",
    "    if os.path.exists(os.path.join(path,name)): shutil.rmtree(os.path.join(path,name))\n",
    "    os.mkdir(os.path.join(path,name))\n",
    "    os.mkdir(os.path.join(path,name,'wavs'))\n",
    "    os.mkdir(os.path.join(path,name,'wavs','train'))\n",
    "    os.mkdir(os.path.join(path,name,'wavs','validation'))\n",
    "    os.mkdir(os.path.join(path,name,'wavs','archive'))\n",
    "    os.mkdir(os.path.join(path,name,'wavs','archive','train'))\n",
    "    os.mkdir(os.path.join(path,name,'wavs','archive','validation'))\n",
    "    os.mkdir(os.path.join(path,name,'filelists'))\n",
    "    os.mkdir(os.path.join(path,name,'filelists','audio'))\n",
    "    os.mkdir(os.path.join(path,name,'filelists','mel'))\n",
    "    os.mkdir(os.path.join(path,name,'filelists','archive'))\n",
    "    os.mkdir(os.path.join(path,name,'wavs','retakes'))\n",
    "    os.mkdir(os.path.join(path,name,'wavs','retakes','train'))\n",
    "    os.mkdir(os.path.join(path,name,'wavs','retakes','validation'))\n",
    "    os.mkdir(os.path.join(path,name,'filelists','retakes'))\n",
    "    os.mkdir(os.path.join(path,name,'filelists','retakes','train'))\n",
    "    os.mkdir(os.path.join(path,name,'filelists','retakes','validation'))\n",
    "    os.mkdir(os.path.join(path,name,'wavs','edited'))\n",
    "    os.mkdir(os.path.join(path,name,'wavs','edited','train'))\n",
    "    os.mkdir(os.path.join(path,name,'wavs','edited','validation'))"
   ]
  },
  {
   "cell_type": "code",
   "execution_count": 84,
   "id": "0b2c1dac",
   "metadata": {},
   "outputs": [],
   "source": [
    "def enumerate_recordings(inputpath, outputpath, fileprefix, train):\n",
    "\n",
    "    inputfiles=os.listdir(inputpath)\n",
    "\n",
    "    removefilewithextension=['.ini','.pkf']\n",
    "\n",
    "    for inputfilename in inputfiles:\n",
    "        for remove in removefilewithextension:\n",
    "            if inputfilename.endswith(remove):\n",
    "                os.remove(os.path.join(inputpath, inputfilename))\n",
    "                \n",
    "    if train: subfolder='train'\n",
    "    else: subfolder='validation'\n",
    "        \n",
    "    start=len(os.listdir(os.path.join(outputpath,subfolder)))+1\n",
    "            \n",
    "    for i, filename in enumerate(inputfiles,start=start):\n",
    "                \n",
    "        outputfilename=f\"\"\"{fileprefix}_{i}.wav\"\"\"\n",
    "                \n",
    "        shutil.copy2(os.path.join(inputpath,inputfilename), os.path.join(outputpath,subfolder,outputfilename))"
   ]
  },
  {
   "cell_type": "code",
   "execution_count": 102,
   "id": "8765d411",
   "metadata": {},
   "outputs": [],
   "source": [
    "def create_filelist(inputpath, outputpath, voicefoldername, fileprefix, audio, train, linecount):\n",
    "\n",
    "    if audio: \n",
    "        audioormel='audio'\n",
    "        ext='.wav'\n",
    "    else: \n",
    "        audioormel='mel'\n",
    "        ext='.pt'\n",
    "        \n",
    "    if train: trainorvalidation='train'\n",
    "    else: trainorvalidation='validation'\n",
    "                \n",
    "    filelistname=str.lower(fileprefix)+'s_'+audioormel+'_text_'+trainorvalidation+'_filelist.txt'\n",
    "    \n",
    "    with open(inputpath,'r') as f:\n",
    "        inputlines=f.readlines()\n",
    "        outputlines=[]\n",
    "        f.close()\n",
    "\n",
    "    for i, inputline in enumerate(inputlines,start=1):\n",
    "        if i<=linecount:\n",
    "            filenumber=int(re.search('_(.*).wav', inputline).group(1))\n",
    "            aftersplit=inputline.split(\"|\",1)[1]\n",
    "            outputline=f\"\"\"{voicefoldername}/{audioormel}/{trainorvalidation}/{fileprefix}_{filenumber}{ext}\"\"\"+'|'+aftersplit\n",
    "            outputlines.append(outputline)\n",
    "        \n",
    "    fulloutputpath=os.path.join(outputpath,voicefoldername,'filelists',audioormel,filelistname)\n",
    "\n",
    "    with open(fulloutputpath, 'w') as f:\n",
    "        for outputline in outputlines:\n",
    "            f.write(outputline)\n",
    "        f.close()"
   ]
  },
  {
   "cell_type": "code",
   "execution_count": 86,
   "id": "d23a5ab2",
   "metadata": {},
   "outputs": [],
   "source": [
    "def create_retakes_filelist(inputpath, inputfilelistname, outputfilelistname, train, specialstartingcharacter, retakeindices):\n",
    "    \n",
    "    try: os.mkdir(os.path.join(filelistpath,'retakes'))\n",
    "    except: 'retakes directory already exists'\n",
    "\n",
    "    if train: trainorvalidation='train'\n",
    "    else: trainorvalidation='validation'\n",
    "        \n",
    "    outputpath=os.path.join(filelistpath,'retakes',trainorvalidation)\n",
    "        \n",
    "    try: os.mkdir(outputpath)\n",
    "    except: f\"\"\"retakes/{trainorvalidation} directory already exists\"\"\" \n",
    "    \n",
    "    with open(os.path.join(filelistpath, inputfilelistname),'r') as f:\n",
    "        inputlines=f.readlines()\n",
    "    f.close()\n",
    "               \n",
    "    outputlines=[]\n",
    "    \n",
    "    for i, inputline in enumerate(inputlines):\n",
    "        if specialstartingcharacter != '':\n",
    "            if inputline[0]==specialstartingcharacter: \n",
    "                outputlines.append(inputline.split(f\"\"\"{trainorvalidation}/\"\"\",1)[1])\n",
    "                retakeindices.append(i+1)\n",
    "        elif int(re.search('_(.*).wav', inputline).group(1)) in retakeindices:\n",
    "            outputlines.append(inputline.split(f\"\"\"{trainorvalidation}/\"\"\",1)[1])\n",
    "    \n",
    "    with open(os.path.join(outputpath, outputfilelistname), 'w') as f:\n",
    "        for outputline in outputlines:\n",
    "            f.write(outputline)\n",
    "        f.close()"
   ]
  },
  {
   "cell_type": "code",
   "execution_count": 87,
   "id": "4381d98f",
   "metadata": {},
   "outputs": [],
   "source": [
    "def swap_retakes(audiopath, train, retakefilelistpath):\n",
    "    \n",
    "    with open(retakefilelistpath,'r') as f:\n",
    "        retakeindices=[]\n",
    "        lines=f.readlines()\n",
    "        for i, line in enumerate(lines):\n",
    "            retakeindices.append(int(re.search('_(.*).wav', line).group(1)))\n",
    "    f.close()\n",
    "        \n",
    "    if train: trainorvalidation='train'\n",
    "    else: trainorvalidation='validation'\n",
    "        \n",
    "    for i, filename in enumerate(os.listdir(os.path.join(audiopath,trainorvalidation)),start=1):\n",
    "    \n",
    "        if (int(re.search('_(.*).wav', filename).group(1)) in retakeindices):\n",
    "            \n",
    "            # Archive Old Voice Files Where Retakes Exist\n",
    "                \n",
    "            try: os.remove(os.path.join(outputpath,filename))\n",
    "            except: print(\"file doesn't exists in archive table\")\n",
    "        \n",
    "            os.rename(os.path.join(audiopath,trainorvalidation,filename), os.path.join(audiopath,'archive',trainorvalidation,filename))  \n",
    "            \n",
    "            # Copy Retakes\n",
    "            \n",
    "            shutil.copy2(os.path.join(audiopath,'retakes',trainorvalidation,filename), os.path.join(audiopath,trainorvalidation,filename))"
   ]
  },
  {
   "cell_type": "code",
   "execution_count": 99,
   "id": "f65141a5",
   "metadata": {},
   "outputs": [],
   "source": [
    "# Set Environment Path\n",
    "\n",
    "environmentpath='<insert environment path>'"
   ]
  },
  {
   "cell_type": "code",
   "execution_count": null,
   "id": "28b4c451",
   "metadata": {},
   "outputs": [],
   "source": [
    "# Example Application"
   ]
  },
  {
   "cell_type": "code",
   "execution_count": 101,
   "id": "32ca5b99",
   "metadata": {},
   "outputs": [],
   "source": [
    "# Create Voice Folder\n",
    "\n",
    "name='AC-Voice-Cloning-Data-Test'\n",
    "\n",
    "create_voice_folder(environmentpath, name)"
   ]
  },
  {
   "cell_type": "code",
   "execution_count": 90,
   "id": "6bcc7ca6",
   "metadata": {},
   "outputs": [],
   "source": [
    "# Enumerate Recordings - Train\n",
    "\n",
    "inputpath=f\"\"\"{environmentpath}<path to folder with recordings in chronological order>\"\"\"\n",
    "outputpath=f\"\"\"{environmentpath}AC-Voice-Cloning-Data-Test\\\\wavs\\\\\"\"\"\n",
    "fileprefix=\"AC\"\n",
    "train=True\n",
    "\n",
    "enumerate_recordings(inputpath, outputpath, fileprefix, train)"
   ]
  },
  {
   "cell_type": "code",
   "execution_count": 2,
   "id": "517ca2cb",
   "metadata": {},
   "outputs": [],
   "source": [
    "# Check Audio File Count\n",
    "\n",
    "targettrainfilecount=1250\n",
    "\n",
    "filetype='train'\n",
    "\n",
    "trainfilecount=len(os.listdir(os.path.join(outputpath,filetype)))\n",
    "\n",
    "if trainfilecount>targettrainfilecount: print(f\"\"\"Output {filetype} file count of {trainfilecount} is greater than required count of {targettrainfilecount}; identify and remove duplicate recordings\"\"\")\n",
    "elif trainfilecount<targettrainfilecount: print(f\"\"\"Output {filetype} file count of {trainfilecount} is less than required count of {targettrainfilecount}; identify and add missing recordings\"\"\")\n",
    "else: print(f\"\"\"Output {filetype} file count of {trainfilecount} meets required count of {targettrainfilecount}\"\"\")"
   ]
  },
  {
   "cell_type": "code",
   "execution_count": 92,
   "id": "5ceaa2c6",
   "metadata": {},
   "outputs": [],
   "source": [
    "# Enumerate Recordings - Validation\n",
    "\n",
    "inputpath=f\"\"\"{environmentpath}<path to folder with recordings in chronological order>\"\"\"\n",
    "outputpath=f\"\"\"{environmentpath}AC-Voice-Cloning-Data-Test\\\\wavs\\\\\"\"\"\n",
    "fileprefix=\"AC\"\n",
    "train=False\n",
    "\n",
    "enumerate_recordings(inputpath, outputpath, fileprefix, train)"
   ]
  },
  {
   "cell_type": "code",
   "execution_count": 93,
   "id": "8442e7a5",
   "metadata": {},
   "outputs": [
    {
     "name": "stdout",
     "output_type": "stream",
     "text": [
      "Output validation file count of 100 meets required count of 100\n"
     ]
    }
   ],
   "source": [
    "# Check Audio File Count\n",
    "\n",
    "targettrainfilecount=100\n",
    "\n",
    "filetype='validation'\n",
    "\n",
    "trainfilecount=len(os.listdir(os.path.join(outputpath,filetype)))\n",
    "\n",
    "if trainfilecount>targettrainfilecount: print(f\"\"\"Output {filetype} file count of {trainfilecount} is greater than required count of {targettrainfilecount}; identify and remove duplicate recordings\"\"\")\n",
    "elif trainfilecount<targettrainfilecount: print(f\"\"\"Output {filetype} file count of {trainfilecount} is less than required count of {targettrainfilecount}; identify and add missing recordings\"\"\")\n",
    "else: print(f\"\"\"Output {filetype} file count of {trainfilecount} meets required count of {targettrainfilecount}\"\"\")"
   ]
  },
  {
   "cell_type": "code",
   "execution_count": 94,
   "id": "adf53d22",
   "metadata": {},
   "outputs": [],
   "source": [
    "# Create Audio Filelist\n",
    "\n",
    "# Train\n",
    "\n",
    "inputpath=f\"\"\"{environmentpath}AC-Voice-Cloning-Data\\\\filelists\\\\archive\\\\acs_audio_text_train_filelist_1250.txt\"\"\"\n",
    "voicefoldername='AC-Voice-Cloning-Data-Test'\n",
    "fileprefix='AC'\n",
    "audio=True\n",
    "train=True\n",
    "linecount=1250\n",
    "\n",
    "create_filelist(inputpath, environmentpath, voicefoldername, fileprefix, audio, train, linecount)\n",
    "\n",
    "# Validation\n",
    "\n",
    "inputpath=f\"\"\"{environmentpath}AC-Voice-Cloning-Data\\\\filelists\\\\archive\\\\acs_audio_text_validation_filelist_100.txt\"\"\"\n",
    "train=False\n",
    "\n",
    "create_filelist(inputpath, environmentpath, voicefoldername, fileprefix, audio, train, linecount)"
   ]
  },
  {
   "cell_type": "code",
   "execution_count": 97,
   "id": "42385237",
   "metadata": {},
   "outputs": [],
   "source": [
    "# Optional - Build Retakes Filelist\n",
    "\n",
    "filelistpath=f\"\"\"{environmentpath}AC-Voice-Cloning-Data-Test\\\\filelists\"\"\"\n",
    "inputfilelistname='retakes\\\\train\\\\acs_audio_text_train_filelist.txt'\n",
    "outputfilelistname='acs_audio_retakes_train_filelist.txt'\n",
    "train=True\n",
    "specialstartingcharacter='#'\n",
    "retakeindices=[]\n",
    "\n",
    "create_retakes_filelist(filelistpath, inputfilelistname, outputfilelistname, train, specialstartingcharacter, retakeindices)"
   ]
  },
  {
   "cell_type": "code",
   "execution_count": 1,
   "id": "b9801e92",
   "metadata": {},
   "outputs": [],
   "source": [
    "# Optional - Swap Retake Audio Files\n",
    "\n",
    "audiopath=f\"\"\"{environmentpath}AC-Voice-Cloning-Data-Test\\\\wavs\"\"\"\n",
    "train=True\n",
    "retakefilelistpath=f\"\"\"{environmentpath}AC-Voice-Cloning-Data-Test\\\\filelists\\\\retakes\\\\train\\\\acs_audio_retakes_train_filelist.txt\"\"\"\n",
    "\n",
    "swap_retakes(audiopath, train, retakefilelistpath)"
   ]
  },
  {
   "cell_type": "code",
   "execution_count": null,
   "id": "2e4af09a",
   "metadata": {},
   "outputs": [],
   "source": []
  }
 ],
 "metadata": {
  "kernelspec": {
   "display_name": "Python 3 (ipykernel)",
   "language": "python",
   "name": "python3"
  },
  "language_info": {
   "codemirror_mode": {
    "name": "ipython",
    "version": 3
   },
   "file_extension": ".py",
   "mimetype": "text/x-python",
   "name": "python",
   "nbconvert_exporter": "python",
   "pygments_lexer": "ipython3",
   "version": "3.10.4"
  }
 },
 "nbformat": 4,
 "nbformat_minor": 5
}
